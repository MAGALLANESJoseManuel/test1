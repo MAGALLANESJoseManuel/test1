{
 "cells": [
  {
   "cell_type": "markdown",
   "metadata": {
    "id": "ymPHFNEttWh_"
   },
   "source": [
    "# DATA FRAMES IN Python"
   ]
  },
  {
   "cell_type": "markdown",
   "metadata": {
    "id": "lAgZDJ0FtWiB"
   },
   "source": [
    "**Data frames**  are more complex containers of values. The most common analogy is a spreadsheet."
   ]
  },
  {
   "cell_type": "markdown",
   "metadata": {
    "id": "ptlQ3i-Gk-uk"
   },
   "source": [
    "## 1. Creating"
   ]
  },
  {
   "cell_type": "code",
   "execution_count": 6,
   "metadata": {
    "colab": {
     "base_uri": "https://localhost:8080/",
     "height": 206
    },
    "id": "bBT7Zz7NtWiB",
    "outputId": "56fc1da4-dfa6-4f24-8956-a594bb17f30e"
   },
   "outputs": [
    {
     "data": {
      "text/html": [
       "<div>\n",
       "<style scoped>\n",
       "    .dataframe tbody tr th:only-of-type {\n",
       "        vertical-align: middle;\n",
       "    }\n",
       "\n",
       "    .dataframe tbody tr th {\n",
       "        vertical-align: top;\n",
       "    }\n",
       "\n",
       "    .dataframe thead th {\n",
       "        text-align: right;\n",
       "    }\n",
       "</style>\n",
       "<table border=\"1\" class=\"dataframe\">\n",
       "  <thead>\n",
       "    <tr style=\"text-align: right;\">\n",
       "      <th></th>\n",
       "      <th>student</th>\n",
       "      <th>age</th>\n",
       "      <th>edu</th>\n",
       "      <th>country</th>\n",
       "    </tr>\n",
       "  </thead>\n",
       "  <tbody>\n",
       "    <tr>\n",
       "      <th>0</th>\n",
       "      <td>Qing</td>\n",
       "      <td>32</td>\n",
       "      <td>Bach</td>\n",
       "      <td>China</td>\n",
       "    </tr>\n",
       "    <tr>\n",
       "      <th>1</th>\n",
       "      <td>Françoise</td>\n",
       "      <td>33</td>\n",
       "      <td>Bach</td>\n",
       "      <td>Senegal</td>\n",
       "    </tr>\n",
       "    <tr>\n",
       "      <th>2</th>\n",
       "      <td>Raúl</td>\n",
       "      <td>28</td>\n",
       "      <td>Master</td>\n",
       "      <td>España</td>\n",
       "    </tr>\n",
       "    <tr>\n",
       "      <th>3</th>\n",
       "      <td>Bjork</td>\n",
       "      <td>30</td>\n",
       "      <td>PhD</td>\n",
       "      <td>Norway</td>\n",
       "    </tr>\n",
       "    <tr>\n",
       "      <th>4</th>\n",
       "      <td>Marie</td>\n",
       "      <td>29</td>\n",
       "      <td>PhD</td>\n",
       "      <td>Korea</td>\n",
       "    </tr>\n",
       "  </tbody>\n",
       "</table>\n",
       "</div>"
      ],
      "text/plain": [
       "     student  age     edu  country\n",
       "0       Qing   32    Bach    China\n",
       "1  Françoise   33    Bach  Senegal\n",
       "2       Raúl   28  Master   España\n",
       "3      Bjork   30     PhD   Norway\n",
       "4      Marie   29     PhD    Korea"
      ]
     },
     "execution_count": 6,
     "metadata": {},
     "output_type": "execute_result"
    }
   ],
   "source": [
    "namesP=[\"Qing\", \"Françoise\", \"Raúl\", \"Bjork\",\"Marie\"]\n",
    "agesP=[32,33,28,30,29]\n",
    "countryP=[\"China\", \"Senegal\", \"España\", \"Norway\",\"Korea\"]\n",
    "educationP=[\"Bach\", \"Bach\", \"Master\", \"PhD\",\"PhD\"]\n",
    "\n",
    "classroomP=dict(student=namesP,age=agesP,edu=educationP,country=countryP)\n",
    "\n",
    "import pandas as pd\n",
    "\n",
    "# our data frame:\n",
    "studentsP=pd.DataFrame(classroomP)\n",
    "## see it:\n",
    "studentsP\n"
   ]
  },
  {
   "cell_type": "code",
   "execution_count": 9,
   "metadata": {
    "colab": {
     "base_uri": "https://localhost:8080/",
     "height": 206
    },
    "id": "xkDjthPK1_NL",
    "outputId": "f938a096-a093-40c4-efcd-4aba84380006"
   },
   "outputs": [],
   "source": [
    "studentsP.loc[2,'student']='Lito'\n",
    "studentsP.loc[[2,4],'age']=[32,31]\n",
    "\n",
    "femaleP=[True,True,False,False,True]\n",
    "studentsP1=studentsP.assign(female=femaleP)\n",
    "studentsP1.iloc[0,1]=33"
   ]
  },
  {
   "cell_type": "code",
   "execution_count": 8,
   "metadata": {
    "id": "WBgj0NrexcHN"
   },
   "outputs": [
    {
     "data": {
      "text/html": [
       "<div>\n",
       "<style scoped>\n",
       "    .dataframe tbody tr th:only-of-type {\n",
       "        vertical-align: middle;\n",
       "    }\n",
       "\n",
       "    .dataframe tbody tr th {\n",
       "        vertical-align: top;\n",
       "    }\n",
       "\n",
       "    .dataframe thead th {\n",
       "        text-align: right;\n",
       "    }\n",
       "</style>\n",
       "<table border=\"1\" class=\"dataframe\">\n",
       "  <thead>\n",
       "    <tr style=\"text-align: right;\">\n",
       "      <th></th>\n",
       "      <th>student</th>\n",
       "      <th>age</th>\n",
       "      <th>edu</th>\n",
       "      <th>country</th>\n",
       "      <th>female</th>\n",
       "    </tr>\n",
       "  </thead>\n",
       "  <tbody>\n",
       "    <tr>\n",
       "      <th>0</th>\n",
       "      <td>Qing</td>\n",
       "      <td>32</td>\n",
       "      <td>Bach</td>\n",
       "      <td>China</td>\n",
       "      <td>True</td>\n",
       "    </tr>\n",
       "    <tr>\n",
       "      <th>1</th>\n",
       "      <td>Françoise</td>\n",
       "      <td>33</td>\n",
       "      <td>Bach</td>\n",
       "      <td>Senegal</td>\n",
       "      <td>True</td>\n",
       "    </tr>\n",
       "    <tr>\n",
       "      <th>2</th>\n",
       "      <td>Lito</td>\n",
       "      <td>32</td>\n",
       "      <td>Master</td>\n",
       "      <td>España</td>\n",
       "      <td>False</td>\n",
       "    </tr>\n",
       "    <tr>\n",
       "      <th>3</th>\n",
       "      <td>Bjork</td>\n",
       "      <td>30</td>\n",
       "      <td>PhD</td>\n",
       "      <td>Norway</td>\n",
       "      <td>False</td>\n",
       "    </tr>\n",
       "    <tr>\n",
       "      <th>4</th>\n",
       "      <td>Marie</td>\n",
       "      <td>31</td>\n",
       "      <td>PhD</td>\n",
       "      <td>Korea</td>\n",
       "      <td>True</td>\n",
       "    </tr>\n",
       "  </tbody>\n",
       "</table>\n",
       "</div>"
      ],
      "text/plain": [
       "     student  age     edu  country  female\n",
       "0       Qing   32    Bach    China    True\n",
       "1  Françoise   33    Bach  Senegal    True\n",
       "2       Lito   32  Master   España   False\n",
       "3      Bjork   30     PhD   Norway   False\n",
       "4      Marie   31     PhD    Korea    True"
      ]
     },
     "execution_count": 8,
     "metadata": {},
     "output_type": "execute_result"
    }
   ],
   "source": [
    "#currently\n",
    "studentsP1"
   ]
  },
  {
   "cell_type": "markdown",
   "metadata": {
    "id": "ixodYzmqj7Rd"
   },
   "source": [
    "## Queries"
   ]
  },
  {
   "cell_type": "code",
   "execution_count": 10,
   "metadata": {
    "id": "LEgEZrV_kXjH"
   },
   "outputs": [
    {
     "data": {
      "text/html": [
       "<div>\n",
       "<style scoped>\n",
       "    .dataframe tbody tr th:only-of-type {\n",
       "        vertical-align: middle;\n",
       "    }\n",
       "\n",
       "    .dataframe tbody tr th {\n",
       "        vertical-align: top;\n",
       "    }\n",
       "\n",
       "    .dataframe thead th {\n",
       "        text-align: right;\n",
       "    }\n",
       "</style>\n",
       "<table border=\"1\" class=\"dataframe\">\n",
       "  <thead>\n",
       "    <tr style=\"text-align: right;\">\n",
       "      <th></th>\n",
       "      <th>student</th>\n",
       "      <th>age</th>\n",
       "      <th>edu</th>\n",
       "      <th>country</th>\n",
       "      <th>female</th>\n",
       "    </tr>\n",
       "  </thead>\n",
       "  <tbody>\n",
       "    <tr>\n",
       "      <th>0</th>\n",
       "      <td>Qing</td>\n",
       "      <td>33</td>\n",
       "      <td>Bach</td>\n",
       "      <td>China</td>\n",
       "      <td>True</td>\n",
       "    </tr>\n",
       "    <tr>\n",
       "      <th>1</th>\n",
       "      <td>Françoise</td>\n",
       "      <td>33</td>\n",
       "      <td>Bach</td>\n",
       "      <td>Senegal</td>\n",
       "      <td>True</td>\n",
       "    </tr>\n",
       "  </tbody>\n",
       "</table>\n",
       "</div>"
      ],
      "text/plain": [
       "     student  age   edu  country  female\n",
       "0       Qing   33  Bach    China    True\n",
       "1  Françoise   33  Bach  Senegal    True"
      ]
     },
     "execution_count": 10,
     "metadata": {},
     "output_type": "execute_result"
    }
   ],
   "source": [
    "#who is the oldest?\n",
    "\n",
    "studentsP1[studentsP1.age==max(studentsP1.age)]"
   ]
  },
  {
   "cell_type": "code",
   "execution_count": 11,
   "metadata": {
    "id": "zdI-qh6nk1Iy"
   },
   "outputs": [
    {
     "data": {
      "text/plain": [
       "0         Qing\n",
       "1    Françoise\n",
       "Name: student, dtype: object"
      ]
     },
     "execution_count": 11,
     "metadata": {},
     "output_type": "execute_result"
    }
   ],
   "source": [
    "studentsP1[studentsP1.age==studentsP1.age.max()]['student']"
   ]
  },
  {
   "cell_type": "code",
   "execution_count": 12,
   "metadata": {
    "id": "fXfjIQQdqavQ"
   },
   "outputs": [
    {
     "data": {
      "text/html": [
       "<div>\n",
       "<style scoped>\n",
       "    .dataframe tbody tr th:only-of-type {\n",
       "        vertical-align: middle;\n",
       "    }\n",
       "\n",
       "    .dataframe tbody tr th {\n",
       "        vertical-align: top;\n",
       "    }\n",
       "\n",
       "    .dataframe thead th {\n",
       "        text-align: right;\n",
       "    }\n",
       "</style>\n",
       "<table border=\"1\" class=\"dataframe\">\n",
       "  <thead>\n",
       "    <tr style=\"text-align: right;\">\n",
       "      <th></th>\n",
       "      <th>student</th>\n",
       "      <th>age</th>\n",
       "      <th>edu</th>\n",
       "      <th>country</th>\n",
       "      <th>female</th>\n",
       "    </tr>\n",
       "  </thead>\n",
       "  <tbody>\n",
       "    <tr>\n",
       "      <th>3</th>\n",
       "      <td>Bjork</td>\n",
       "      <td>30</td>\n",
       "      <td>PhD</td>\n",
       "      <td>Norway</td>\n",
       "      <td>False</td>\n",
       "    </tr>\n",
       "    <tr>\n",
       "      <th>4</th>\n",
       "      <td>Marie</td>\n",
       "      <td>31</td>\n",
       "      <td>PhD</td>\n",
       "      <td>Korea</td>\n",
       "      <td>True</td>\n",
       "    </tr>\n",
       "  </tbody>\n",
       "</table>\n",
       "</div>"
      ],
      "text/plain": [
       "  student  age  edu country  female\n",
       "3   Bjork   30  PhD  Norway   False\n",
       "4   Marie   31  PhD   Korea    True"
      ]
     },
     "execution_count": 12,
     "metadata": {},
     "output_type": "execute_result"
    }
   ],
   "source": [
    "#who has PhD?\n",
    "\n",
    "studentsP1[studentsP1.edu=='PhD']"
   ]
  },
  {
   "cell_type": "code",
   "execution_count": 13,
   "metadata": {
    "id": "kbw5wTlpqiAK"
   },
   "outputs": [
    {
     "data": {
      "text/html": [
       "<div>\n",
       "<style scoped>\n",
       "    .dataframe tbody tr th:only-of-type {\n",
       "        vertical-align: middle;\n",
       "    }\n",
       "\n",
       "    .dataframe tbody tr th {\n",
       "        vertical-align: top;\n",
       "    }\n",
       "\n",
       "    .dataframe thead th {\n",
       "        text-align: right;\n",
       "    }\n",
       "</style>\n",
       "<table border=\"1\" class=\"dataframe\">\n",
       "  <thead>\n",
       "    <tr style=\"text-align: right;\">\n",
       "      <th></th>\n",
       "      <th>student</th>\n",
       "      <th>age</th>\n",
       "      <th>edu</th>\n",
       "      <th>country</th>\n",
       "      <th>female</th>\n",
       "    </tr>\n",
       "  </thead>\n",
       "  <tbody>\n",
       "    <tr>\n",
       "      <th>2</th>\n",
       "      <td>Lito</td>\n",
       "      <td>32</td>\n",
       "      <td>Master</td>\n",
       "      <td>España</td>\n",
       "      <td>False</td>\n",
       "    </tr>\n",
       "    <tr>\n",
       "      <th>3</th>\n",
       "      <td>Bjork</td>\n",
       "      <td>30</td>\n",
       "      <td>PhD</td>\n",
       "      <td>Norway</td>\n",
       "      <td>False</td>\n",
       "    </tr>\n",
       "    <tr>\n",
       "      <th>4</th>\n",
       "      <td>Marie</td>\n",
       "      <td>31</td>\n",
       "      <td>PhD</td>\n",
       "      <td>Korea</td>\n",
       "      <td>True</td>\n",
       "    </tr>\n",
       "  </tbody>\n",
       "</table>\n",
       "</div>"
      ],
      "text/plain": [
       "  student  age     edu country  female\n",
       "2    Lito   32  Master  España   False\n",
       "3   Bjork   30     PhD  Norway   False\n",
       "4   Marie   31     PhD   Korea    True"
      ]
     },
     "execution_count": 13,
     "metadata": {},
     "output_type": "execute_result"
    }
   ],
   "source": [
    "#who has PhD or Master?\n",
    "studentsP1[studentsP1.edu.isin(['PhD','Master'])]"
   ]
  },
  {
   "cell_type": "code",
   "execution_count": 14,
   "metadata": {
    "id": "TeE8AztCrDiz"
   },
   "outputs": [
    {
     "data": {
      "text/html": [
       "<div>\n",
       "<style scoped>\n",
       "    .dataframe tbody tr th:only-of-type {\n",
       "        vertical-align: middle;\n",
       "    }\n",
       "\n",
       "    .dataframe tbody tr th {\n",
       "        vertical-align: top;\n",
       "    }\n",
       "\n",
       "    .dataframe thead th {\n",
       "        text-align: right;\n",
       "    }\n",
       "</style>\n",
       "<table border=\"1\" class=\"dataframe\">\n",
       "  <thead>\n",
       "    <tr style=\"text-align: right;\">\n",
       "      <th></th>\n",
       "      <th>student</th>\n",
       "      <th>age</th>\n",
       "      <th>edu</th>\n",
       "      <th>country</th>\n",
       "      <th>female</th>\n",
       "    </tr>\n",
       "  </thead>\n",
       "  <tbody>\n",
       "    <tr>\n",
       "      <th>0</th>\n",
       "      <td>Qing</td>\n",
       "      <td>33</td>\n",
       "      <td>Bach</td>\n",
       "      <td>China</td>\n",
       "      <td>True</td>\n",
       "    </tr>\n",
       "    <tr>\n",
       "      <th>1</th>\n",
       "      <td>Françoise</td>\n",
       "      <td>33</td>\n",
       "      <td>Bach</td>\n",
       "      <td>Senegal</td>\n",
       "      <td>True</td>\n",
       "    </tr>\n",
       "  </tbody>\n",
       "</table>\n",
       "</div>"
      ],
      "text/plain": [
       "     student  age   edu  country  female\n",
       "0       Qing   33  Bach    China    True\n",
       "1  Françoise   33  Bach  Senegal    True"
      ]
     },
     "execution_count": 14,
     "metadata": {},
     "output_type": "execute_result"
    }
   ],
   "source": [
    "#who does not has PhD or Master?\n",
    "studentsP1[~studentsP1.edu.isin(['PhD','Master'])]"
   ]
  },
  {
   "cell_type": "code",
   "execution_count": 15,
   "metadata": {
    "id": "c4zavUHDrjNs"
   },
   "outputs": [
    {
     "data": {
      "text/html": [
       "<div>\n",
       "<style scoped>\n",
       "    .dataframe tbody tr th:only-of-type {\n",
       "        vertical-align: middle;\n",
       "    }\n",
       "\n",
       "    .dataframe tbody tr th {\n",
       "        vertical-align: top;\n",
       "    }\n",
       "\n",
       "    .dataframe thead th {\n",
       "        text-align: right;\n",
       "    }\n",
       "</style>\n",
       "<table border=\"1\" class=\"dataframe\">\n",
       "  <thead>\n",
       "    <tr style=\"text-align: right;\">\n",
       "      <th></th>\n",
       "      <th>student</th>\n",
       "      <th>age</th>\n",
       "      <th>edu</th>\n",
       "      <th>country</th>\n",
       "      <th>female</th>\n",
       "    </tr>\n",
       "  </thead>\n",
       "  <tbody>\n",
       "    <tr>\n",
       "      <th>0</th>\n",
       "      <td>Qing</td>\n",
       "      <td>33</td>\n",
       "      <td>Bach</td>\n",
       "      <td>China</td>\n",
       "      <td>True</td>\n",
       "    </tr>\n",
       "    <tr>\n",
       "      <th>1</th>\n",
       "      <td>Françoise</td>\n",
       "      <td>33</td>\n",
       "      <td>Bach</td>\n",
       "      <td>Senegal</td>\n",
       "      <td>True</td>\n",
       "    </tr>\n",
       "    <tr>\n",
       "      <th>4</th>\n",
       "      <td>Marie</td>\n",
       "      <td>31</td>\n",
       "      <td>PhD</td>\n",
       "      <td>Korea</td>\n",
       "      <td>True</td>\n",
       "    </tr>\n",
       "  </tbody>\n",
       "</table>\n",
       "</div>"
      ],
      "text/plain": [
       "     student  age   edu  country  female\n",
       "0       Qing   33  Bach    China    True\n",
       "1  Françoise   33  Bach  Senegal    True\n",
       "4      Marie   31   PhD    Korea    True"
      ]
     },
     "execution_count": 15,
     "metadata": {},
     "output_type": "execute_result"
    }
   ],
   "source": [
    "#the youngest female\n",
    "studentsP1[studentsP1.female]"
   ]
  },
  {
   "cell_type": "code",
   "execution_count": 16,
   "metadata": {
    "id": "CTTPDmL0sA5w"
   },
   "outputs": [
    {
     "data": {
      "text/plain": [
       "'Marie'"
      ]
     },
     "execution_count": 16,
     "metadata": {},
     "output_type": "execute_result"
    }
   ],
   "source": [
    "studentsP1[studentsP1.female].sort_values(by=['age'],ascending=True).iloc[0,0]"
   ]
  },
  {
   "cell_type": "code",
   "execution_count": 17,
   "metadata": {
    "id": "NhzsBpxAjxDT"
   },
   "outputs": [
    {
     "data": {
      "text/html": [
       "<div>\n",
       "<style scoped>\n",
       "    .dataframe tbody tr th:only-of-type {\n",
       "        vertical-align: middle;\n",
       "    }\n",
       "\n",
       "    .dataframe tbody tr th {\n",
       "        vertical-align: top;\n",
       "    }\n",
       "\n",
       "    .dataframe thead th {\n",
       "        text-align: right;\n",
       "    }\n",
       "</style>\n",
       "<table border=\"1\" class=\"dataframe\">\n",
       "  <thead>\n",
       "    <tr style=\"text-align: right;\">\n",
       "      <th></th>\n",
       "      <th>student</th>\n",
       "      <th>age</th>\n",
       "      <th>edu</th>\n",
       "      <th>country</th>\n",
       "      <th>female</th>\n",
       "    </tr>\n",
       "  </thead>\n",
       "  <tbody>\n",
       "    <tr>\n",
       "      <th>0</th>\n",
       "      <td>Qing</td>\n",
       "      <td>33</td>\n",
       "      <td>Bach</td>\n",
       "      <td>China</td>\n",
       "      <td>True</td>\n",
       "    </tr>\n",
       "    <tr>\n",
       "      <th>1</th>\n",
       "      <td>Françoise</td>\n",
       "      <td>33</td>\n",
       "      <td>Bach</td>\n",
       "      <td>Senegal</td>\n",
       "      <td>True</td>\n",
       "    </tr>\n",
       "    <tr>\n",
       "      <th>2</th>\n",
       "      <td>Lito</td>\n",
       "      <td>32</td>\n",
       "      <td>Master</td>\n",
       "      <td>España</td>\n",
       "      <td>False</td>\n",
       "    </tr>\n",
       "    <tr>\n",
       "      <th>3</th>\n",
       "      <td>Bjork</td>\n",
       "      <td>30</td>\n",
       "      <td>PhD</td>\n",
       "      <td>Norway</td>\n",
       "      <td>False</td>\n",
       "    </tr>\n",
       "    <tr>\n",
       "      <th>4</th>\n",
       "      <td>Marie</td>\n",
       "      <td>31</td>\n",
       "      <td>PhD</td>\n",
       "      <td>Korea</td>\n",
       "      <td>True</td>\n",
       "    </tr>\n",
       "  </tbody>\n",
       "</table>\n",
       "</div>"
      ],
      "text/plain": [
       "     student  age     edu  country  female\n",
       "0       Qing   33    Bach    China    True\n",
       "1  Françoise   33    Bach  Senegal    True\n",
       "2       Lito   32  Master   España   False\n",
       "3      Bjork   30     PhD   Norway   False\n",
       "4      Marie   31     PhD    Korea    True"
      ]
     },
     "execution_count": 17,
     "metadata": {},
     "output_type": "execute_result"
    }
   ],
   "source": [
    "studentsP1"
   ]
  },
  {
   "cell_type": "code",
   "execution_count": 18,
   "metadata": {
    "id": "b3550Z-kwWkB"
   },
   "outputs": [
    {
     "data": {
      "text/html": [
       "<div>\n",
       "<style scoped>\n",
       "    .dataframe tbody tr th:only-of-type {\n",
       "        vertical-align: middle;\n",
       "    }\n",
       "\n",
       "    .dataframe tbody tr th {\n",
       "        vertical-align: top;\n",
       "    }\n",
       "\n",
       "    .dataframe thead th {\n",
       "        text-align: right;\n",
       "    }\n",
       "</style>\n",
       "<table border=\"1\" class=\"dataframe\">\n",
       "  <thead>\n",
       "    <tr style=\"text-align: right;\">\n",
       "      <th></th>\n",
       "      <th>student</th>\n",
       "      <th>age</th>\n",
       "      <th>edu</th>\n",
       "      <th>country</th>\n",
       "      <th>female</th>\n",
       "    </tr>\n",
       "  </thead>\n",
       "  <tbody>\n",
       "  </tbody>\n",
       "</table>\n",
       "</div>"
      ],
      "text/plain": [
       "Empty DataFrame\n",
       "Columns: [student, age, edu, country, female]\n",
       "Index: []"
      ]
     },
     "execution_count": 18,
     "metadata": {},
     "output_type": "execute_result"
    }
   ],
   "source": [
    "studentsP1[studentsP1.female & studentsP1.age==studentsP1.age.min()]"
   ]
  },
  {
   "cell_type": "code",
   "execution_count": 19,
   "metadata": {
    "id": "wGeUO5FZMXUS"
   },
   "outputs": [
    {
     "data": {
      "text/html": [
       "<div>\n",
       "<style scoped>\n",
       "    .dataframe tbody tr th:only-of-type {\n",
       "        vertical-align: middle;\n",
       "    }\n",
       "\n",
       "    .dataframe tbody tr th {\n",
       "        vertical-align: top;\n",
       "    }\n",
       "\n",
       "    .dataframe thead th {\n",
       "        text-align: right;\n",
       "    }\n",
       "</style>\n",
       "<table border=\"1\" class=\"dataframe\">\n",
       "  <thead>\n",
       "    <tr style=\"text-align: right;\">\n",
       "      <th></th>\n",
       "      <th>student</th>\n",
       "      <th>age</th>\n",
       "      <th>edu</th>\n",
       "      <th>country</th>\n",
       "      <th>female</th>\n",
       "    </tr>\n",
       "  </thead>\n",
       "  <tbody>\n",
       "    <tr>\n",
       "      <th>0</th>\n",
       "      <td>Qing</td>\n",
       "      <td>33</td>\n",
       "      <td>Bach</td>\n",
       "      <td>China</td>\n",
       "      <td>True</td>\n",
       "    </tr>\n",
       "    <tr>\n",
       "      <th>1</th>\n",
       "      <td>Françoise</td>\n",
       "      <td>33</td>\n",
       "      <td>Bach</td>\n",
       "      <td>Senegal</td>\n",
       "      <td>True</td>\n",
       "    </tr>\n",
       "    <tr>\n",
       "      <th>4</th>\n",
       "      <td>Marie</td>\n",
       "      <td>31</td>\n",
       "      <td>PhD</td>\n",
       "      <td>Korea</td>\n",
       "      <td>True</td>\n",
       "    </tr>\n",
       "  </tbody>\n",
       "</table>\n",
       "</div>"
      ],
      "text/plain": [
       "     student  age   edu  country  female\n",
       "0       Qing   33  Bach    China    True\n",
       "1  Françoise   33  Bach  Senegal    True\n",
       "4      Marie   31   PhD    Korea    True"
      ]
     },
     "execution_count": 19,
     "metadata": {},
     "output_type": "execute_result"
    }
   ],
   "source": [
    "femdf=studentsP1[studentsP1.female]\n",
    "femdf"
   ]
  },
  {
   "cell_type": "code",
   "execution_count": 20,
   "metadata": {
    "id": "tNY1mqWpMiyA"
   },
   "outputs": [
    {
     "data": {
      "text/html": [
       "<div>\n",
       "<style scoped>\n",
       "    .dataframe tbody tr th:only-of-type {\n",
       "        vertical-align: middle;\n",
       "    }\n",
       "\n",
       "    .dataframe tbody tr th {\n",
       "        vertical-align: top;\n",
       "    }\n",
       "\n",
       "    .dataframe thead th {\n",
       "        text-align: right;\n",
       "    }\n",
       "</style>\n",
       "<table border=\"1\" class=\"dataframe\">\n",
       "  <thead>\n",
       "    <tr style=\"text-align: right;\">\n",
       "      <th></th>\n",
       "      <th>student</th>\n",
       "      <th>age</th>\n",
       "      <th>edu</th>\n",
       "      <th>country</th>\n",
       "      <th>female</th>\n",
       "    </tr>\n",
       "  </thead>\n",
       "  <tbody>\n",
       "    <tr>\n",
       "      <th>4</th>\n",
       "      <td>Marie</td>\n",
       "      <td>31</td>\n",
       "      <td>PhD</td>\n",
       "      <td>Korea</td>\n",
       "      <td>True</td>\n",
       "    </tr>\n",
       "  </tbody>\n",
       "</table>\n",
       "</div>"
      ],
      "text/plain": [
       "  student  age  edu country  female\n",
       "4   Marie   31  PhD   Korea    True"
      ]
     },
     "execution_count": 20,
     "metadata": {},
     "output_type": "execute_result"
    }
   ],
   "source": [
    "femdf[femdf.age==femdf.age.min()]"
   ]
  },
  {
   "cell_type": "code",
   "execution_count": 21,
   "metadata": {
    "id": "Gj7cUAnXkoLl"
   },
   "outputs": [
    {
     "data": {
      "text/plain": [
       "4    Marie\n",
       "Name: student, dtype: object"
      ]
     },
     "execution_count": 21,
     "metadata": {},
     "output_type": "execute_result"
    }
   ],
   "source": [
    "femdf[femdf.age==femdf.age.min()]['student']"
   ]
  },
  {
   "cell_type": "code",
   "execution_count": null,
   "metadata": {},
   "outputs": [],
   "source": []
  }
 ],
 "metadata": {
  "anaconda-cloud": {
   "attach-environment": true,
   "summary": "test"
  },
  "colab": {
   "provenance": []
  },
  "hide_input": false,
  "kernelspec": {
   "display_name": "Python 3 (ipykernel)",
   "language": "python",
   "name": "python3"
  },
  "language_info": {
   "codemirror_mode": {
    "name": "ipython",
    "version": 3
   },
   "file_extension": ".py",
   "mimetype": "text/x-python",
   "name": "python",
   "nbconvert_exporter": "python",
   "pygments_lexer": "ipython3",
   "version": "3.11.11"
  }
 },
 "nbformat": 4,
 "nbformat_minor": 4
}
